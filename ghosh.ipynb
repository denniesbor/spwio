{
  "nbformat": 4,
  "nbformat_minor": 0,
  "metadata": {
    "colab": {
      "provenance": [],
      "authorship_tag": "ABX9TyPPRNQCFVr4+SmdujO+seD7",
      "include_colab_link": true
    },
    "kernelspec": {
      "name": "python3",
      "display_name": "Python 3"
    },
    "language_info": {
      "name": "python"
    }
  },
  "cells": [
    {
      "cell_type": "markdown",
      "metadata": {
        "id": "view-in-github",
        "colab_type": "text"
      },
      "source": [
        "<a href=\"https://colab.research.google.com/github/denniesbor/spwio/blob/from_colab/ghosh.ipynb\" target=\"_parent\"><img src=\"https://colab.research.google.com/assets/colab-badge.svg\" alt=\"Open In Colab\"/></a>"
      ]
    },
    {
      "cell_type": "code",
      "execution_count": 1,
      "metadata": {
        "colab": {
          "base_uri": "https://localhost:8080/"
        },
        "id": "2nRoYpVAefat",
        "outputId": "1a50ef1f-e617-4311-9788-9aa173fac701"
      },
      "outputs": [
        {
          "output_type": "stream",
          "name": "stdout",
          "text": [
            "Mounted at /content/drive\n"
          ]
        }
      ],
      "source": [
        "# Connect google drive\n",
        "\n",
        "from google.colab import drive\n",
        "drive.mount('/content/drive')"
      ]
    },
    {
      "cell_type": "code",
      "source": [
        "import os\n",
        "import tqdm\n",
        "import pickle\n",
        "import pprint\n",
        "import string\n",
        "\n",
        "import pandas as pd\n",
        "import numpy as np\n",
        "import matplotlib.pyplot as plt\n",
        "import seaborn as sns"
      ],
      "metadata": {
        "id": "_BC-_D_ZfDPR"
      },
      "execution_count": 3,
      "outputs": []
    },
    {
      "cell_type": "code",
      "source": [
        "# Set the data and working folders\n",
        "working_dir = \"/content/drive/MyDrive/spwio\"\n",
        "data_path = os.path.join(working_dir, \"data\")"
      ],
      "metadata": {
        "id": "vprWBfGKe_O5"
      },
      "execution_count": 4,
      "outputs": []
    },
    {
      "cell_type": "code",
      "source": [
        "# Read the US industry gross output and technical coefficients\n",
        "\n",
        "technical_coefficients = pd.read_csv(os.path.join(data_path, \"direct_requirements.csv\")) # total requirements table\n",
        "\n",
        "# 2022 US gross output by industires, in million dollars\n",
        "gross_output_2022 = pd.read_csv(os.path.join(data_path, \"use_table.csv\"))\n",
        "gross_output_2022.set_index(\"Name\", inplace=True)\n",
        "\n",
        "# Total by industry\n",
        "industry_output = gross_output_2022.loc[\"Total industry output (basic prices)\"].to_numpy().T.astype(int) /1000 # y output\n",
        "\n",
        "print(industry_output)"
      ],
      "metadata": {
        "colab": {
          "base_uri": "https://localhost:8080/"
        },
        "id": "oLhAZqrsfH_c",
        "outputId": "661dba17-61f9-4289-890d-e058c3d62364"
      },
      "execution_count": 6,
      "outputs": [
        {
          "output_type": "stream",
          "name": "stdout",
          "text": [
            "[ 644.755  830.937  665.432 2131.939 7162.401 2481.375 2404.055 1771.549\n",
            " 2406.922 8268.954 5338.993 3380.27  1832.25   871.147 4936.725]\n"
          ]
        }
      ]
    },
    {
      "cell_type": "markdown",
      "source": [
        "## Ghosh Model\n",
        "\n",
        "Ghosh model estimates how a change in industries input affects the output of the forward linked industrial sectors.\n",
        "Ghosh model is given by:\n",
        "\n",
        "$x' = v'G$ where G is\n",
        "\n",
        "$G = (I-B)^{-1}$\n",
        "\n",
        "B is derived from technical coefficients and industries gross output by\n",
        "\n",
        "$B = \\hat{X}^{-1} A \\hat{X}$\n",
        "\n",
        "The hat symbol matrix X consist of industral outputs as diagonal elements."
      ],
      "metadata": {
        "id": "GdIBAj4Ufvk9"
      }
    },
    {
      "cell_type": "code",
      "source": [
        "# Computing A matrix\n",
        "# Import total requirements matrix\n",
        "leontief_df = pd.read_csv(os.path.join(data_path, \"total_requirements.csv\"))\n",
        "\n",
        "# Identity matrix\n",
        "I = np.eye(leontief_df.shape[1])\n",
        "A = I - np.linalg.inv(leontief_df.to_numpy())"
      ],
      "metadata": {
        "id": "nVBAmCZefobF"
      },
      "execution_count": 7,
      "outputs": []
    },
    {
      "cell_type": "code",
      "source": [
        "# Computing B matrix\n",
        "gross_diag = np.diag(industry_output) # Make the industrial output as the diagonal in a n by n matrix where n is number of industries/commodities\n",
        "gross_diag_inv = np.linalg.inv(gross_diag) # Inverse of the diagonal matrix of outputs\n",
        "B = np.dot(np.dot(gross_diag_inv, A), gross_diag) # Get the B coefficient matrix\n",
        "\n",
        "# Allocation coefficients\n",
        "print(B[1])\n"
      ],
      "metadata": {
        "colab": {
          "base_uri": "https://localhost:8080/"
        },
        "id": "ImWPl_2wi52w",
        "outputId": "a0aa2de5-90cf-4501-8e16-2fb40541d8fc"
      },
      "execution_count": 10,
      "outputs": [
        {
          "output_type": "stream",
          "name": "stdout",
          "text": [
            "[0.00260726 0.10376166 0.04155259 0.02739609 0.69657082 0.0016575\n",
            " 0.00106581 0.00267864 0.00546284 0.0013009  0.00686356 0.00603553\n",
            " 0.00478607 0.00235111 0.04659834]\n"
          ]
        }
      ]
    },
    {
      "cell_type": "code",
      "source": [
        "# Ghosh model\n",
        "ghosh_model = np.linalg.inv(I - B)"
      ],
      "metadata": {
        "id": "WgbnEJaLjH-f"
      },
      "execution_count": 11,
      "outputs": []
    },
    {
      "cell_type": "markdown",
      "source": [
        "## Ghosh Model\n",
        "\n",
        "We shall leverage the Ghosh Model to estimate changes in gross output due to changes in value added.\n",
        "The GDP calculations are based on the final demand and VA, ignoring double counting in intra and inter-industry gross output. Proceeding in this section, we shall apply relative values to US GDP to estimate, for example, how much losses of the gross production are incurred for a change in value added."
      ],
      "metadata": {
        "id": "_7neD_HOjlbt"
      }
    },
    {
      "cell_type": "code",
      "source": [
        "# Load the US GDP by 15 NAICs sectors\n",
        "us_gdp_df = pd.read_csv(os.path.join(data_path, \"gdp_sector_us.csv\"))\n",
        "us_gdp_df"
      ],
      "metadata": {
        "colab": {
          "base_uri": "https://localhost:8080/",
          "height": 519
        },
        "id": "U1rHYqx2jgQr",
        "outputId": "35e7a697-84ee-4900-9ce7-aafee9602f6f"
      },
      "execution_count": 15,
      "outputs": [
        {
          "output_type": "execute_result",
          "data": {
            "text/plain": [
              "                                             Industry     gdp\n",
              "0         Agriculture, forestry, fishing, and hunting   179.3\n",
              "1                                              Mining   301.3\n",
              "2                                           Utilities   336.3\n",
              "3                                        Construction   850.9\n",
              "4                                       Manufacturing  2312.9\n",
              "5                                     Wholesale trade  1118.8\n",
              "6                                        Retail trade  1318.5\n",
              "7                      Transportation and warehousing   736.1\n",
              "8                                         Information  1625.4\n",
              "9   Finance, insurance, real estate, rental, and l...  4557.7\n",
              "10                 Professional and business services  3334.1\n",
              "11  Educational services, health care, and social ...  2022.4\n",
              "12  Arts, entertainment, recreation, accommodation...   912.2\n",
              "13                  Other services, except government   422.1\n",
              "14                                         Government  2563.4"
            ],
            "text/html": [
              "\n",
              "  <div id=\"df-fca0391e-49bf-4dd9-971d-2fb67ab33dea\" class=\"colab-df-container\">\n",
              "    <div>\n",
              "<style scoped>\n",
              "    .dataframe tbody tr th:only-of-type {\n",
              "        vertical-align: middle;\n",
              "    }\n",
              "\n",
              "    .dataframe tbody tr th {\n",
              "        vertical-align: top;\n",
              "    }\n",
              "\n",
              "    .dataframe thead th {\n",
              "        text-align: right;\n",
              "    }\n",
              "</style>\n",
              "<table border=\"1\" class=\"dataframe\">\n",
              "  <thead>\n",
              "    <tr style=\"text-align: right;\">\n",
              "      <th></th>\n",
              "      <th>Industry</th>\n",
              "      <th>gdp</th>\n",
              "    </tr>\n",
              "  </thead>\n",
              "  <tbody>\n",
              "    <tr>\n",
              "      <th>0</th>\n",
              "      <td>Agriculture, forestry, fishing, and hunting</td>\n",
              "      <td>179.3</td>\n",
              "    </tr>\n",
              "    <tr>\n",
              "      <th>1</th>\n",
              "      <td>Mining</td>\n",
              "      <td>301.3</td>\n",
              "    </tr>\n",
              "    <tr>\n",
              "      <th>2</th>\n",
              "      <td>Utilities</td>\n",
              "      <td>336.3</td>\n",
              "    </tr>\n",
              "    <tr>\n",
              "      <th>3</th>\n",
              "      <td>Construction</td>\n",
              "      <td>850.9</td>\n",
              "    </tr>\n",
              "    <tr>\n",
              "      <th>4</th>\n",
              "      <td>Manufacturing</td>\n",
              "      <td>2312.9</td>\n",
              "    </tr>\n",
              "    <tr>\n",
              "      <th>5</th>\n",
              "      <td>Wholesale trade</td>\n",
              "      <td>1118.8</td>\n",
              "    </tr>\n",
              "    <tr>\n",
              "      <th>6</th>\n",
              "      <td>Retail trade</td>\n",
              "      <td>1318.5</td>\n",
              "    </tr>\n",
              "    <tr>\n",
              "      <th>7</th>\n",
              "      <td>Transportation and warehousing</td>\n",
              "      <td>736.1</td>\n",
              "    </tr>\n",
              "    <tr>\n",
              "      <th>8</th>\n",
              "      <td>Information</td>\n",
              "      <td>1625.4</td>\n",
              "    </tr>\n",
              "    <tr>\n",
              "      <th>9</th>\n",
              "      <td>Finance, insurance, real estate, rental, and l...</td>\n",
              "      <td>4557.7</td>\n",
              "    </tr>\n",
              "    <tr>\n",
              "      <th>10</th>\n",
              "      <td>Professional and business services</td>\n",
              "      <td>3334.1</td>\n",
              "    </tr>\n",
              "    <tr>\n",
              "      <th>11</th>\n",
              "      <td>Educational services, health care, and social ...</td>\n",
              "      <td>2022.4</td>\n",
              "    </tr>\n",
              "    <tr>\n",
              "      <th>12</th>\n",
              "      <td>Arts, entertainment, recreation, accommodation...</td>\n",
              "      <td>912.2</td>\n",
              "    </tr>\n",
              "    <tr>\n",
              "      <th>13</th>\n",
              "      <td>Other services, except government</td>\n",
              "      <td>422.1</td>\n",
              "    </tr>\n",
              "    <tr>\n",
              "      <th>14</th>\n",
              "      <td>Government</td>\n",
              "      <td>2563.4</td>\n",
              "    </tr>\n",
              "  </tbody>\n",
              "</table>\n",
              "</div>\n",
              "    <div class=\"colab-df-buttons\">\n",
              "\n",
              "  <div class=\"colab-df-container\">\n",
              "    <button class=\"colab-df-convert\" onclick=\"convertToInteractive('df-fca0391e-49bf-4dd9-971d-2fb67ab33dea')\"\n",
              "            title=\"Convert this dataframe to an interactive table.\"\n",
              "            style=\"display:none;\">\n",
              "\n",
              "  <svg xmlns=\"http://www.w3.org/2000/svg\" height=\"24px\" viewBox=\"0 -960 960 960\">\n",
              "    <path d=\"M120-120v-720h720v720H120Zm60-500h600v-160H180v160Zm220 220h160v-160H400v160Zm0 220h160v-160H400v160ZM180-400h160v-160H180v160Zm440 0h160v-160H620v160ZM180-180h160v-160H180v160Zm440 0h160v-160H620v160Z\"/>\n",
              "  </svg>\n",
              "    </button>\n",
              "\n",
              "  <style>\n",
              "    .colab-df-container {\n",
              "      display:flex;\n",
              "      gap: 12px;\n",
              "    }\n",
              "\n",
              "    .colab-df-convert {\n",
              "      background-color: #E8F0FE;\n",
              "      border: none;\n",
              "      border-radius: 50%;\n",
              "      cursor: pointer;\n",
              "      display: none;\n",
              "      fill: #1967D2;\n",
              "      height: 32px;\n",
              "      padding: 0 0 0 0;\n",
              "      width: 32px;\n",
              "    }\n",
              "\n",
              "    .colab-df-convert:hover {\n",
              "      background-color: #E2EBFA;\n",
              "      box-shadow: 0px 1px 2px rgba(60, 64, 67, 0.3), 0px 1px 3px 1px rgba(60, 64, 67, 0.15);\n",
              "      fill: #174EA6;\n",
              "    }\n",
              "\n",
              "    .colab-df-buttons div {\n",
              "      margin-bottom: 4px;\n",
              "    }\n",
              "\n",
              "    [theme=dark] .colab-df-convert {\n",
              "      background-color: #3B4455;\n",
              "      fill: #D2E3FC;\n",
              "    }\n",
              "\n",
              "    [theme=dark] .colab-df-convert:hover {\n",
              "      background-color: #434B5C;\n",
              "      box-shadow: 0px 1px 3px 1px rgba(0, 0, 0, 0.15);\n",
              "      filter: drop-shadow(0px 1px 2px rgba(0, 0, 0, 0.3));\n",
              "      fill: #FFFFFF;\n",
              "    }\n",
              "  </style>\n",
              "\n",
              "    <script>\n",
              "      const buttonEl =\n",
              "        document.querySelector('#df-fca0391e-49bf-4dd9-971d-2fb67ab33dea button.colab-df-convert');\n",
              "      buttonEl.style.display =\n",
              "        google.colab.kernel.accessAllowed ? 'block' : 'none';\n",
              "\n",
              "      async function convertToInteractive(key) {\n",
              "        const element = document.querySelector('#df-fca0391e-49bf-4dd9-971d-2fb67ab33dea');\n",
              "        const dataTable =\n",
              "          await google.colab.kernel.invokeFunction('convertToInteractive',\n",
              "                                                    [key], {});\n",
              "        if (!dataTable) return;\n",
              "\n",
              "        const docLinkHtml = 'Like what you see? Visit the ' +\n",
              "          '<a target=\"_blank\" href=https://colab.research.google.com/notebooks/data_table.ipynb>data table notebook</a>'\n",
              "          + ' to learn more about interactive tables.';\n",
              "        element.innerHTML = '';\n",
              "        dataTable['output_type'] = 'display_data';\n",
              "        await google.colab.output.renderOutput(dataTable, element);\n",
              "        const docLink = document.createElement('div');\n",
              "        docLink.innerHTML = docLinkHtml;\n",
              "        element.appendChild(docLink);\n",
              "      }\n",
              "    </script>\n",
              "  </div>\n",
              "\n",
              "\n",
              "<div id=\"df-14ab5749-dbbe-44fe-9a76-9c8f51c7ae07\">\n",
              "  <button class=\"colab-df-quickchart\" onclick=\"quickchart('df-14ab5749-dbbe-44fe-9a76-9c8f51c7ae07')\"\n",
              "            title=\"Suggest charts\"\n",
              "            style=\"display:none;\">\n",
              "\n",
              "<svg xmlns=\"http://www.w3.org/2000/svg\" height=\"24px\"viewBox=\"0 0 24 24\"\n",
              "     width=\"24px\">\n",
              "    <g>\n",
              "        <path d=\"M19 3H5c-1.1 0-2 .9-2 2v14c0 1.1.9 2 2 2h14c1.1 0 2-.9 2-2V5c0-1.1-.9-2-2-2zM9 17H7v-7h2v7zm4 0h-2V7h2v10zm4 0h-2v-4h2v4z\"/>\n",
              "    </g>\n",
              "</svg>\n",
              "  </button>\n",
              "\n",
              "<style>\n",
              "  .colab-df-quickchart {\n",
              "      --bg-color: #E8F0FE;\n",
              "      --fill-color: #1967D2;\n",
              "      --hover-bg-color: #E2EBFA;\n",
              "      --hover-fill-color: #174EA6;\n",
              "      --disabled-fill-color: #AAA;\n",
              "      --disabled-bg-color: #DDD;\n",
              "  }\n",
              "\n",
              "  [theme=dark] .colab-df-quickchart {\n",
              "      --bg-color: #3B4455;\n",
              "      --fill-color: #D2E3FC;\n",
              "      --hover-bg-color: #434B5C;\n",
              "      --hover-fill-color: #FFFFFF;\n",
              "      --disabled-bg-color: #3B4455;\n",
              "      --disabled-fill-color: #666;\n",
              "  }\n",
              "\n",
              "  .colab-df-quickchart {\n",
              "    background-color: var(--bg-color);\n",
              "    border: none;\n",
              "    border-radius: 50%;\n",
              "    cursor: pointer;\n",
              "    display: none;\n",
              "    fill: var(--fill-color);\n",
              "    height: 32px;\n",
              "    padding: 0;\n",
              "    width: 32px;\n",
              "  }\n",
              "\n",
              "  .colab-df-quickchart:hover {\n",
              "    background-color: var(--hover-bg-color);\n",
              "    box-shadow: 0 1px 2px rgba(60, 64, 67, 0.3), 0 1px 3px 1px rgba(60, 64, 67, 0.15);\n",
              "    fill: var(--button-hover-fill-color);\n",
              "  }\n",
              "\n",
              "  .colab-df-quickchart-complete:disabled,\n",
              "  .colab-df-quickchart-complete:disabled:hover {\n",
              "    background-color: var(--disabled-bg-color);\n",
              "    fill: var(--disabled-fill-color);\n",
              "    box-shadow: none;\n",
              "  }\n",
              "\n",
              "  .colab-df-spinner {\n",
              "    border: 2px solid var(--fill-color);\n",
              "    border-color: transparent;\n",
              "    border-bottom-color: var(--fill-color);\n",
              "    animation:\n",
              "      spin 1s steps(1) infinite;\n",
              "  }\n",
              "\n",
              "  @keyframes spin {\n",
              "    0% {\n",
              "      border-color: transparent;\n",
              "      border-bottom-color: var(--fill-color);\n",
              "      border-left-color: var(--fill-color);\n",
              "    }\n",
              "    20% {\n",
              "      border-color: transparent;\n",
              "      border-left-color: var(--fill-color);\n",
              "      border-top-color: var(--fill-color);\n",
              "    }\n",
              "    30% {\n",
              "      border-color: transparent;\n",
              "      border-left-color: var(--fill-color);\n",
              "      border-top-color: var(--fill-color);\n",
              "      border-right-color: var(--fill-color);\n",
              "    }\n",
              "    40% {\n",
              "      border-color: transparent;\n",
              "      border-right-color: var(--fill-color);\n",
              "      border-top-color: var(--fill-color);\n",
              "    }\n",
              "    60% {\n",
              "      border-color: transparent;\n",
              "      border-right-color: var(--fill-color);\n",
              "    }\n",
              "    80% {\n",
              "      border-color: transparent;\n",
              "      border-right-color: var(--fill-color);\n",
              "      border-bottom-color: var(--fill-color);\n",
              "    }\n",
              "    90% {\n",
              "      border-color: transparent;\n",
              "      border-bottom-color: var(--fill-color);\n",
              "    }\n",
              "  }\n",
              "</style>\n",
              "\n",
              "  <script>\n",
              "    async function quickchart(key) {\n",
              "      const quickchartButtonEl =\n",
              "        document.querySelector('#' + key + ' button');\n",
              "      quickchartButtonEl.disabled = true;  // To prevent multiple clicks.\n",
              "      quickchartButtonEl.classList.add('colab-df-spinner');\n",
              "      try {\n",
              "        const charts = await google.colab.kernel.invokeFunction(\n",
              "            'suggestCharts', [key], {});\n",
              "      } catch (error) {\n",
              "        console.error('Error during call to suggestCharts:', error);\n",
              "      }\n",
              "      quickchartButtonEl.classList.remove('colab-df-spinner');\n",
              "      quickchartButtonEl.classList.add('colab-df-quickchart-complete');\n",
              "    }\n",
              "    (() => {\n",
              "      let quickchartButtonEl =\n",
              "        document.querySelector('#df-14ab5749-dbbe-44fe-9a76-9c8f51c7ae07 button');\n",
              "      quickchartButtonEl.style.display =\n",
              "        google.colab.kernel.accessAllowed ? 'block' : 'none';\n",
              "    })();\n",
              "  </script>\n",
              "</div>\n",
              "\n",
              "  <div id=\"id_af44cfd0-6d42-4dbc-aa52-a4ad9045da08\">\n",
              "    <style>\n",
              "      .colab-df-generate {\n",
              "        background-color: #E8F0FE;\n",
              "        border: none;\n",
              "        border-radius: 50%;\n",
              "        cursor: pointer;\n",
              "        display: none;\n",
              "        fill: #1967D2;\n",
              "        height: 32px;\n",
              "        padding: 0 0 0 0;\n",
              "        width: 32px;\n",
              "      }\n",
              "\n",
              "      .colab-df-generate:hover {\n",
              "        background-color: #E2EBFA;\n",
              "        box-shadow: 0px 1px 2px rgba(60, 64, 67, 0.3), 0px 1px 3px 1px rgba(60, 64, 67, 0.15);\n",
              "        fill: #174EA6;\n",
              "      }\n",
              "\n",
              "      [theme=dark] .colab-df-generate {\n",
              "        background-color: #3B4455;\n",
              "        fill: #D2E3FC;\n",
              "      }\n",
              "\n",
              "      [theme=dark] .colab-df-generate:hover {\n",
              "        background-color: #434B5C;\n",
              "        box-shadow: 0px 1px 3px 1px rgba(0, 0, 0, 0.15);\n",
              "        filter: drop-shadow(0px 1px 2px rgba(0, 0, 0, 0.3));\n",
              "        fill: #FFFFFF;\n",
              "      }\n",
              "    </style>\n",
              "    <button class=\"colab-df-generate\" onclick=\"generateWithVariable('us_gdp_df')\"\n",
              "            title=\"Generate code using this dataframe.\"\n",
              "            style=\"display:none;\">\n",
              "\n",
              "  <svg xmlns=\"http://www.w3.org/2000/svg\" height=\"24px\"viewBox=\"0 0 24 24\"\n",
              "       width=\"24px\">\n",
              "    <path d=\"M7,19H8.4L18.45,9,17,7.55,7,17.6ZM5,21V16.75L18.45,3.32a2,2,0,0,1,2.83,0l1.4,1.43a1.91,1.91,0,0,1,.58,1.4,1.91,1.91,0,0,1-.58,1.4L9.25,21ZM18.45,9,17,7.55Zm-12,3A5.31,5.31,0,0,0,4.9,8.1,5.31,5.31,0,0,0,1,6.5,5.31,5.31,0,0,0,4.9,4.9,5.31,5.31,0,0,0,6.5,1,5.31,5.31,0,0,0,8.1,4.9,5.31,5.31,0,0,0,12,6.5,5.46,5.46,0,0,0,6.5,12Z\"/>\n",
              "  </svg>\n",
              "    </button>\n",
              "    <script>\n",
              "      (() => {\n",
              "      const buttonEl =\n",
              "        document.querySelector('#id_af44cfd0-6d42-4dbc-aa52-a4ad9045da08 button.colab-df-generate');\n",
              "      buttonEl.style.display =\n",
              "        google.colab.kernel.accessAllowed ? 'block' : 'none';\n",
              "\n",
              "      buttonEl.onclick = () => {\n",
              "        google.colab.notebook.generateWithVariable('us_gdp_df');\n",
              "      }\n",
              "      })();\n",
              "    </script>\n",
              "  </div>\n",
              "\n",
              "    </div>\n",
              "  </div>\n"
            ],
            "application/vnd.google.colaboratory.intrinsic+json": {
              "type": "dataframe",
              "variable_name": "us_gdp_df",
              "summary": "{\n  \"name\": \"us_gdp_df\",\n  \"rows\": 15,\n  \"fields\": [\n    {\n      \"column\": \"Industry\",\n      \"properties\": {\n        \"dtype\": \"string\",\n        \"samples\": [\n          \"Finance, insurance, real estate, rental, and leasing\",\n          \"Educational services, health care, and social assistance\",\n          \"Agriculture, forestry, fishing, and hunting\"\n        ],\n        \"num_unique_values\": 15,\n        \"semantic_type\": \"\",\n        \"description\": \"\"\n      }\n    },\n    {\n      \"column\": \"gdp\",\n      \"properties\": {\n        \"dtype\": \"number\",\n        \"std\": 1254.1070496952154,\n        \"min\": 179.3,\n        \"max\": 4557.7,\n        \"samples\": [\n          4557.7,\n          2022.4,\n          179.3\n        ],\n        \"num_unique_values\": 15,\n        \"semantic_type\": \"\",\n        \"description\": \"\"\n      }\n    }\n  ]\n}"
            }
          },
          "metadata": {},
          "execution_count": 15
        }
      ]
    },
    {
      "cell_type": "code",
      "source": [
        "# Convert GDP vals as numpy array\n",
        "va = us_gdp_df.gdp.to_numpy()\n",
        "va_transposed = np.transpose(va)\n",
        "\n",
        "# Sum the US GDP (in billion dollars)\n",
        "us_gdp_df.gdp.sum()"
      ],
      "metadata": {
        "colab": {
          "base_uri": "https://localhost:8080/"
        },
        "id": "rvjeqGw3pTkP",
        "outputId": "3e1f5891-7cbf-4a12-acde-d0bb559e982f"
      },
      "execution_count": 24,
      "outputs": [
        {
          "output_type": "execute_result",
          "data": {
            "text/plain": [
              "22591.4"
            ]
          },
          "metadata": {},
          "execution_count": 24
        }
      ]
    },
    {
      "cell_type": "code",
      "source": [
        "# Apply a 5% impact on GDP\n",
        "va_transposed_5_perc = 0.05 * va_transposed\n",
        "\n",
        "# Change in Gross output is v' @ Ghosh\n",
        "x_delta_5_perc =  va_transposed_5_perc @ ghosh_model\n",
        "\n",
        "print(f\"Change in gross output /n {x_delta_5_perc}\")\n",
        "\n",
        "# For a 5% on the US value added, the resulting change in gross output is\n",
        "(\"Total change in output {}\" .format(np.sum(x_delta_5_perc)))"
      ],
      "metadata": {
        "colab": {
          "base_uri": "https://localhost:8080/",
          "height": 87
        },
        "id": "aWF3QxTDphJf",
        "outputId": "55066ac4-ab86-4732-d5f5-6228ab9f7c65"
      },
      "execution_count": 38,
      "outputs": [
        {
          "output_type": "stream",
          "name": "stdout",
          "text": [
            "Change in gross output /n [ 23.98662499  32.60243351  27.94407776  86.96478485 315.40736544\n",
            " 106.94300203 110.7915299   75.16337799 132.8289166  361.13996549\n",
            " 259.64858211 157.59143901  82.05547435  34.94001963 220.00278601]\n"
          ]
        },
        {
          "output_type": "execute_result",
          "data": {
            "text/plain": [
              "'Total change in output 2028.0103796489088'"
            ],
            "application/vnd.google.colaboratory.intrinsic+json": {
              "type": "string"
            }
          },
          "metadata": {},
          "execution_count": 38
        }
      ]
    },
    {
      "cell_type": "markdown",
      "source": [
        "A 5% impact on GDP would amount to a loss of 2 T in US gross output.\n",
        "\n",
        "**In testing the model, a 100% impact would lead to 100% loss in gross output. Therefore, mat multiplying the total US gdp by the ghosh model should be equal to the total gross output**"
      ],
      "metadata": {
        "id": "denzz0BXrDdG"
      }
    },
    {
      "cell_type": "code",
      "source": [
        "# A 100% impact/ total economic shutdown\n",
        "\n",
        "x_delta_100_perc =  va_transposed @ ghosh_model\n",
        "\n",
        "print(f\"Change in gross output, 100% impact: \\n {x_delta_100_perc}\")\n",
        "print(\"\")\n",
        "print(f\"2022 US Gross output by sectors: \\n {industry_output}\")"
      ],
      "metadata": {
        "colab": {
          "base_uri": "https://localhost:8080/"
        },
        "id": "_N7jIA-iqr8h",
        "outputId": "9c17d0a7-ff31-4030-d04b-d5a91a464df6"
      },
      "execution_count": 30,
      "outputs": [
        {
          "output_type": "stream",
          "name": "stdout",
          "text": [
            "Change in gross output, 100% impact: \n",
            " [ 479.73249975  652.04867017  558.88155513 1739.29569699 6308.14730874\n",
            " 2138.86004057 2215.83059794 1503.26755982 2656.57833206 7222.79930973\n",
            " 5192.97164221 3151.82878012 1641.10948691  698.80039255 4400.05572028]\n",
            "\n",
            "2022 US Gross output: \n",
            " [ 644.755  830.937  665.432 2131.939 7162.401 2481.375 2404.055 1771.549\n",
            " 2406.922 8268.954 5338.993 3380.27  1832.25   871.147 4936.725]\n"
          ]
        }
      ]
    },
    {
      "cell_type": "markdown",
      "source": [
        "The slight discrepancy in values is because the GDP figures used in the calculation are chained to 2017 values figures, whereas the gross output are nominal values"
      ],
      "metadata": {
        "id": "JV2XNUzRs8E-"
      }
    },
    {
      "cell_type": "code",
      "source": [
        "np.sum(x_delta_100_perc) # Change in gross output"
      ],
      "metadata": {
        "colab": {
          "base_uri": "https://localhost:8080/"
        },
        "id": "Qmy_zxe8uDRL",
        "outputId": "ba81c8e4-d3e2-4f51-b677-4b749b22da3a"
      },
      "execution_count": 34,
      "outputs": [
        {
          "output_type": "execute_result",
          "data": {
            "text/plain": [
              "48672.249111573794"
            ]
          },
          "metadata": {},
          "execution_count": 34
        }
      ]
    },
    {
      "cell_type": "code",
      "source": [
        "np.sum(industry_output)"
      ],
      "metadata": {
        "colab": {
          "base_uri": "https://localhost:8080/"
        },
        "id": "tpmFt5-tuEb4",
        "outputId": "c2c556fa-69a0-4bbd-8f56-3923c86c379f"
      },
      "execution_count": 32,
      "outputs": [
        {
          "output_type": "execute_result",
          "data": {
            "text/plain": [
              "45127.70399999999"
            ]
          },
          "metadata": {},
          "execution_count": 32
        }
      ]
    },
    {
      "cell_type": "markdown",
      "source": [
        "## Estimating indirect downstream impacts (Backward Linkages) due to change in value added"
      ],
      "metadata": {
        "id": "JekSlV60yyBx"
      }
    }
  ]
}